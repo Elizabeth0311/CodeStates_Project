{
  "nbformat": 4,
  "nbformat_minor": 0,
  "metadata": {
    "colab": {
      "name": "프로젝트2.ipynb",
      "provenance": [],
      "collapsed_sections": [],
      "mount_file_id": "11dkCigtPRG-s752O2Dc41-bFcEER5XMF",
      "authorship_tag": "ABX9TyNAu1yJXAdray5cdYLZnelV",
      "include_colab_link": true
    },
    "kernelspec": {
      "name": "python3",
      "display_name": "Python 3"
    },
    "language_info": {
      "name": "python"
    }
  },
  "cells": [
    {
      "cell_type": "markdown",
      "metadata": {
        "id": "view-in-github",
        "colab_type": "text"
      },
      "source": [
        "<a href=\"https://colab.research.google.com/github/Elizabeth0311/CodeStates_Project/blob/main/%ED%94%84%EB%A1%9C%EC%A0%9D%ED%8A%B82.ipynb\" target=\"_parent\"><img src=\"https://colab.research.google.com/assets/colab-badge.svg\" alt=\"Open In Colab\"/></a>"
      ]
    },
    {
      "cell_type": "markdown",
      "metadata": {
        "id": "OBVT7H1CxGeP"
      },
      "source": [
        "# ❖2018-2019 국민여행실태조사 설문데이터를 활용한 여행경험자 1회 여행지출 예측모델 만들기\n",
        "\n"
      ]
    },
    {
      "cell_type": "code",
      "metadata": {
        "colab": {
          "base_uri": "https://localhost:8080/",
          "height": 470
        },
        "id": "hywCGVhEaBfX",
        "outputId": "005de5e3-7ebe-46c8-fa01-eace4f83ba85"
      },
      "source": [
        "# 데이터 불러오기 \n",
        "\n",
        "import pandas as pd\n",
        "travel_2019 = pd.read_excel('/content/drive/MyDrive/Code states/se2 project/2019_국내여행.xlsx')\n",
        "travel_2018 = pd.read_excel('/content/drive/MyDrive/Code states/se2 project/2018_국내여행.xlsx')\n",
        "df = pd.concat([travel_2018, travel_2019],axis=0)\n",
        "df.head() "
      ],
      "execution_count": 1,
      "outputs": [
        {
          "output_type": "execute_result",
          "data": {
            "text/html": [
              "<div>\n",
              "<style scoped>\n",
              "    .dataframe tbody tr th:only-of-type {\n",
              "        vertical-align: middle;\n",
              "    }\n",
              "\n",
              "    .dataframe tbody tr th {\n",
              "        vertical-align: top;\n",
              "    }\n",
              "\n",
              "    .dataframe thead th {\n",
              "        text-align: right;\n",
              "    }\n",
              "</style>\n",
              "<table border=\"1\" class=\"dataframe\">\n",
              "  <thead>\n",
              "    <tr style=\"text-align: right;\">\n",
              "      <th></th>\n",
              "      <th>ID</th>\n",
              "      <th>연도</th>\n",
              "      <th>월</th>\n",
              "      <th>국내관광여부</th>\n",
              "      <th>국내출장여부</th>\n",
              "      <th>귀성친지방문여부</th>\n",
              "      <th>주요교통수단</th>\n",
              "      <th>전반적만족도</th>\n",
              "      <th>재방문의도</th>\n",
              "      <th>타인추천의도</th>\n",
              "      <th>성별</th>\n",
              "      <th>연령대</th>\n",
              "      <th>거주지</th>\n",
              "      <th>가중치</th>\n",
              "      <th>국내_여행방문지_국내전체1</th>\n",
              "      <th>국내_월별여행경험_국내전체</th>\n",
              "      <th>국내_A_여행횟수_국내전체</th>\n",
              "      <th>국내_A_여행일수_국내전체</th>\n",
              "      <th>국내_A_여행지출_국내전체</th>\n",
              "      <th>국내_A_여행경험자1회_여행지출_국내전체</th>\n",
              "    </tr>\n",
              "  </thead>\n",
              "  <tbody>\n",
              "    <tr>\n",
              "      <th>0</th>\n",
              "      <td>11010560291_702520</td>\n",
              "      <td>NaN</td>\n",
              "      <td>NaN</td>\n",
              "      <td>2</td>\n",
              "      <td>2</td>\n",
              "      <td>2</td>\n",
              "      <td>NaN</td>\n",
              "      <td>NaN</td>\n",
              "      <td>NaN</td>\n",
              "      <td>NaN</td>\n",
              "      <td>1</td>\n",
              "      <td>3</td>\n",
              "      <td>11</td>\n",
              "      <td>44476.94</td>\n",
              "      <td>NaN</td>\n",
              "      <td>0</td>\n",
              "      <td>0.0</td>\n",
              "      <td>0</td>\n",
              "      <td>0.0</td>\n",
              "      <td>NaN</td>\n",
              "    </tr>\n",
              "    <tr>\n",
              "      <th>1</th>\n",
              "      <td>11010560291_702521</td>\n",
              "      <td>NaN</td>\n",
              "      <td>NaN</td>\n",
              "      <td>2</td>\n",
              "      <td>2</td>\n",
              "      <td>2</td>\n",
              "      <td>NaN</td>\n",
              "      <td>NaN</td>\n",
              "      <td>NaN</td>\n",
              "      <td>NaN</td>\n",
              "      <td>2</td>\n",
              "      <td>4</td>\n",
              "      <td>11</td>\n",
              "      <td>32846.91</td>\n",
              "      <td>NaN</td>\n",
              "      <td>0</td>\n",
              "      <td>0.0</td>\n",
              "      <td>0</td>\n",
              "      <td>0.0</td>\n",
              "      <td>NaN</td>\n",
              "    </tr>\n",
              "    <tr>\n",
              "      <th>2</th>\n",
              "      <td>11010560291_702526</td>\n",
              "      <td>NaN</td>\n",
              "      <td>7.0</td>\n",
              "      <td>2</td>\n",
              "      <td>2</td>\n",
              "      <td>2</td>\n",
              "      <td>NaN</td>\n",
              "      <td>NaN</td>\n",
              "      <td>NaN</td>\n",
              "      <td>NaN</td>\n",
              "      <td>2</td>\n",
              "      <td>2</td>\n",
              "      <td>11</td>\n",
              "      <td>45431.43</td>\n",
              "      <td>NaN</td>\n",
              "      <td>0</td>\n",
              "      <td>0.0</td>\n",
              "      <td>0</td>\n",
              "      <td>0.0</td>\n",
              "      <td>NaN</td>\n",
              "    </tr>\n",
              "    <tr>\n",
              "      <th>3</th>\n",
              "      <td>11010560291_702539</td>\n",
              "      <td>2018.0</td>\n",
              "      <td>NaN</td>\n",
              "      <td>1</td>\n",
              "      <td>2</td>\n",
              "      <td>2</td>\n",
              "      <td>1.0</td>\n",
              "      <td>4.0</td>\n",
              "      <td>5.0</td>\n",
              "      <td>4.0</td>\n",
              "      <td>2</td>\n",
              "      <td>6</td>\n",
              "      <td>11</td>\n",
              "      <td>38728.41</td>\n",
              "      <td>39.0</td>\n",
              "      <td>1</td>\n",
              "      <td>1.0</td>\n",
              "      <td>3</td>\n",
              "      <td>360000.0</td>\n",
              "      <td>360000.0</td>\n",
              "    </tr>\n",
              "    <tr>\n",
              "      <th>4</th>\n",
              "      <td>11010560291_702558</td>\n",
              "      <td>NaN</td>\n",
              "      <td>NaN</td>\n",
              "      <td>2</td>\n",
              "      <td>2</td>\n",
              "      <td>2</td>\n",
              "      <td>NaN</td>\n",
              "      <td>NaN</td>\n",
              "      <td>NaN</td>\n",
              "      <td>NaN</td>\n",
              "      <td>1</td>\n",
              "      <td>5</td>\n",
              "      <td>11</td>\n",
              "      <td>34507.32</td>\n",
              "      <td>NaN</td>\n",
              "      <td>0</td>\n",
              "      <td>0.0</td>\n",
              "      <td>0</td>\n",
              "      <td>0.0</td>\n",
              "      <td>NaN</td>\n",
              "    </tr>\n",
              "    <tr>\n",
              "      <th>...</th>\n",
              "      <td>...</td>\n",
              "      <td>...</td>\n",
              "      <td>...</td>\n",
              "      <td>...</td>\n",
              "      <td>...</td>\n",
              "      <td>...</td>\n",
              "      <td>...</td>\n",
              "      <td>...</td>\n",
              "      <td>...</td>\n",
              "      <td>...</td>\n",
              "      <td>...</td>\n",
              "      <td>...</td>\n",
              "      <td>...</td>\n",
              "      <td>...</td>\n",
              "      <td>...</td>\n",
              "      <td>...</td>\n",
              "      <td>...</td>\n",
              "      <td>...</td>\n",
              "      <td>...</td>\n",
              "      <td>...</td>\n",
              "    </tr>\n",
              "    <tr>\n",
              "      <th>48264</th>\n",
              "      <td>39020620091_1382329</td>\n",
              "      <td>NaN</td>\n",
              "      <td>NaN</td>\n",
              "      <td>2</td>\n",
              "      <td>2</td>\n",
              "      <td>2</td>\n",
              "      <td>NaN</td>\n",
              "      <td>NaN</td>\n",
              "      <td>NaN</td>\n",
              "      <td>NaN</td>\n",
              "      <td>2</td>\n",
              "      <td>5</td>\n",
              "      <td>39</td>\n",
              "      <td>17683.18</td>\n",
              "      <td>NaN</td>\n",
              "      <td>0</td>\n",
              "      <td>0.0</td>\n",
              "      <td>0</td>\n",
              "      <td>0.0</td>\n",
              "      <td>NaN</td>\n",
              "    </tr>\n",
              "    <tr>\n",
              "      <th>48265</th>\n",
              "      <td>39020620091_1382420</td>\n",
              "      <td>NaN</td>\n",
              "      <td>NaN</td>\n",
              "      <td>2</td>\n",
              "      <td>2</td>\n",
              "      <td>2</td>\n",
              "      <td>NaN</td>\n",
              "      <td>NaN</td>\n",
              "      <td>NaN</td>\n",
              "      <td>NaN</td>\n",
              "      <td>2</td>\n",
              "      <td>3</td>\n",
              "      <td>39</td>\n",
              "      <td>24891.95</td>\n",
              "      <td>NaN</td>\n",
              "      <td>0</td>\n",
              "      <td>0.0</td>\n",
              "      <td>0</td>\n",
              "      <td>0.0</td>\n",
              "      <td>NaN</td>\n",
              "    </tr>\n",
              "    <tr>\n",
              "      <th>48266</th>\n",
              "      <td>39020620091_1382421</td>\n",
              "      <td>2019.0</td>\n",
              "      <td>12.0</td>\n",
              "      <td>1</td>\n",
              "      <td>2</td>\n",
              "      <td>2</td>\n",
              "      <td>6.0</td>\n",
              "      <td>4.0</td>\n",
              "      <td>4.0</td>\n",
              "      <td>4.0</td>\n",
              "      <td>2</td>\n",
              "      <td>1</td>\n",
              "      <td>39</td>\n",
              "      <td>40675.91</td>\n",
              "      <td>39.0</td>\n",
              "      <td>1</td>\n",
              "      <td>1.0</td>\n",
              "      <td>2</td>\n",
              "      <td>100000.0</td>\n",
              "      <td>100000.0</td>\n",
              "    </tr>\n",
              "    <tr>\n",
              "      <th>48267</th>\n",
              "      <td>39020620091_1382423</td>\n",
              "      <td>2019.0</td>\n",
              "      <td>12.0</td>\n",
              "      <td>2</td>\n",
              "      <td>2</td>\n",
              "      <td>2</td>\n",
              "      <td>NaN</td>\n",
              "      <td>NaN</td>\n",
              "      <td>NaN</td>\n",
              "      <td>NaN</td>\n",
              "      <td>1</td>\n",
              "      <td>3</td>\n",
              "      <td>39</td>\n",
              "      <td>4739.57</td>\n",
              "      <td>39.0</td>\n",
              "      <td>1</td>\n",
              "      <td>1.0</td>\n",
              "      <td>1</td>\n",
              "      <td>50000.0</td>\n",
              "      <td>50000.0</td>\n",
              "    </tr>\n",
              "    <tr>\n",
              "      <th>48268</th>\n",
              "      <td>39020620091_1382424</td>\n",
              "      <td>NaN</td>\n",
              "      <td>NaN</td>\n",
              "      <td>2</td>\n",
              "      <td>2</td>\n",
              "      <td>2</td>\n",
              "      <td>NaN</td>\n",
              "      <td>NaN</td>\n",
              "      <td>NaN</td>\n",
              "      <td>NaN</td>\n",
              "      <td>2</td>\n",
              "      <td>4</td>\n",
              "      <td>39</td>\n",
              "      <td>3185.10</td>\n",
              "      <td>NaN</td>\n",
              "      <td>0</td>\n",
              "      <td>0.0</td>\n",
              "      <td>0</td>\n",
              "      <td>0.0</td>\n",
              "      <td>NaN</td>\n",
              "    </tr>\n",
              "  </tbody>\n",
              "</table>\n",
              "<p>72423 rows × 20 columns</p>\n",
              "</div>"
            ],
            "text/plain": [
              "                        ID      연도  ...  국내_A_여행지출_국내전체  국내_A_여행경험자1회_여행지출_국내전체\n",
              "0       11010560291_702520     NaN  ...             0.0                     NaN\n",
              "1       11010560291_702521     NaN  ...             0.0                     NaN\n",
              "2       11010560291_702526     NaN  ...             0.0                     NaN\n",
              "3       11010560291_702539  2018.0  ...        360000.0                360000.0\n",
              "4       11010560291_702558     NaN  ...             0.0                     NaN\n",
              "...                    ...     ...  ...             ...                     ...\n",
              "48264  39020620091_1382329     NaN  ...             0.0                     NaN\n",
              "48265  39020620091_1382420     NaN  ...             0.0                     NaN\n",
              "48266  39020620091_1382421  2019.0  ...        100000.0                100000.0\n",
              "48267  39020620091_1382423  2019.0  ...         50000.0                 50000.0\n",
              "48268  39020620091_1382424     NaN  ...             0.0                     NaN\n",
              "\n",
              "[72423 rows x 20 columns]"
            ]
          },
          "metadata": {
            "tags": []
          },
          "execution_count": 1
        }
      ]
    },
    {
      "cell_type": "code",
      "metadata": {
        "colab": {
          "base_uri": "https://localhost:8080/",
          "height": 238
        },
        "id": "KoZW81d0rih4",
        "outputId": "6ee4da4d-711c-4a2e-b6b8-802555855b94"
      },
      "source": [
        "# target 결측치 제거 , 분명하지 않은 날짜(연도,월)도 제거해준다. (시계열데이터로 활용할것이기 때문에)\n",
        "\n",
        "travel = df.dropna(subset=['국내_A_여행경험자1회_여행지출_국내전체','연도','월'])\n",
        "travel.head()"
      ],
      "execution_count": 2,
      "outputs": [
        {
          "output_type": "execute_result",
          "data": {
            "text/html": [
              "<div>\n",
              "<style scoped>\n",
              "    .dataframe tbody tr th:only-of-type {\n",
              "        vertical-align: middle;\n",
              "    }\n",
              "\n",
              "    .dataframe tbody tr th {\n",
              "        vertical-align: top;\n",
              "    }\n",
              "\n",
              "    .dataframe thead th {\n",
              "        text-align: right;\n",
              "    }\n",
              "</style>\n",
              "<table border=\"1\" class=\"dataframe\">\n",
              "  <thead>\n",
              "    <tr style=\"text-align: right;\">\n",
              "      <th></th>\n",
              "      <th>ID</th>\n",
              "      <th>연도</th>\n",
              "      <th>월</th>\n",
              "      <th>국내관광여부</th>\n",
              "      <th>국내출장여부</th>\n",
              "      <th>귀성친지방문여부</th>\n",
              "      <th>주요교통수단</th>\n",
              "      <th>전반적만족도</th>\n",
              "      <th>재방문의도</th>\n",
              "      <th>타인추천의도</th>\n",
              "      <th>성별</th>\n",
              "      <th>연령대</th>\n",
              "      <th>거주지</th>\n",
              "      <th>가중치</th>\n",
              "      <th>국내_여행방문지_국내전체1</th>\n",
              "      <th>국내_월별여행경험_국내전체</th>\n",
              "      <th>국내_A_여행횟수_국내전체</th>\n",
              "      <th>국내_A_여행일수_국내전체</th>\n",
              "      <th>국내_A_여행지출_국내전체</th>\n",
              "      <th>국내_A_여행경험자1회_여행지출_국내전체</th>\n",
              "    </tr>\n",
              "  </thead>\n",
              "  <tbody>\n",
              "    <tr>\n",
              "      <th>5</th>\n",
              "      <td>11010560321_500005</td>\n",
              "      <td>2018.0</td>\n",
              "      <td>5.0</td>\n",
              "      <td>1</td>\n",
              "      <td>2</td>\n",
              "      <td>2</td>\n",
              "      <td>7.0</td>\n",
              "      <td>4.0</td>\n",
              "      <td>4.0</td>\n",
              "      <td>3.0</td>\n",
              "      <td>2</td>\n",
              "      <td>5</td>\n",
              "      <td>11</td>\n",
              "      <td>24978.80</td>\n",
              "      <td>34.0</td>\n",
              "      <td>1</td>\n",
              "      <td>1.0</td>\n",
              "      <td>1</td>\n",
              "      <td>57200.0</td>\n",
              "      <td>57200.0</td>\n",
              "    </tr>\n",
              "    <tr>\n",
              "      <th>6</th>\n",
              "      <td>11010560321_500010</td>\n",
              "      <td>2018.0</td>\n",
              "      <td>5.0</td>\n",
              "      <td>1</td>\n",
              "      <td>2</td>\n",
              "      <td>2</td>\n",
              "      <td>1.0</td>\n",
              "      <td>4.0</td>\n",
              "      <td>4.0</td>\n",
              "      <td>4.0</td>\n",
              "      <td>1</td>\n",
              "      <td>7</td>\n",
              "      <td>11</td>\n",
              "      <td>40998.79</td>\n",
              "      <td>31.0</td>\n",
              "      <td>1</td>\n",
              "      <td>1.0</td>\n",
              "      <td>1</td>\n",
              "      <td>90000.0</td>\n",
              "      <td>90000.0</td>\n",
              "    </tr>\n",
              "    <tr>\n",
              "      <th>9</th>\n",
              "      <td>11010560321_500029</td>\n",
              "      <td>2018.0</td>\n",
              "      <td>5.0</td>\n",
              "      <td>1</td>\n",
              "      <td>2</td>\n",
              "      <td>2</td>\n",
              "      <td>1.0</td>\n",
              "      <td>4.0</td>\n",
              "      <td>4.0</td>\n",
              "      <td>3.0</td>\n",
              "      <td>2</td>\n",
              "      <td>6</td>\n",
              "      <td>11</td>\n",
              "      <td>35549.36</td>\n",
              "      <td>35.0</td>\n",
              "      <td>1</td>\n",
              "      <td>1.0</td>\n",
              "      <td>3</td>\n",
              "      <td>68500.0</td>\n",
              "      <td>68500.0</td>\n",
              "    </tr>\n",
              "    <tr>\n",
              "      <th>10</th>\n",
              "      <td>11010600061_900004</td>\n",
              "      <td>2018.0</td>\n",
              "      <td>9.0</td>\n",
              "      <td>1</td>\n",
              "      <td>2</td>\n",
              "      <td>2</td>\n",
              "      <td>1.0</td>\n",
              "      <td>4.0</td>\n",
              "      <td>4.0</td>\n",
              "      <td>4.0</td>\n",
              "      <td>2</td>\n",
              "      <td>6</td>\n",
              "      <td>11</td>\n",
              "      <td>41515.66</td>\n",
              "      <td>36.0</td>\n",
              "      <td>1</td>\n",
              "      <td>1.0</td>\n",
              "      <td>2</td>\n",
              "      <td>100000.0</td>\n",
              "      <td>100000.0</td>\n",
              "    </tr>\n",
              "    <tr>\n",
              "      <th>11</th>\n",
              "      <td>11010600061_900010</td>\n",
              "      <td>2018.0</td>\n",
              "      <td>9.0</td>\n",
              "      <td>1</td>\n",
              "      <td>2</td>\n",
              "      <td>1</td>\n",
              "      <td>1.0</td>\n",
              "      <td>4.0</td>\n",
              "      <td>4.0</td>\n",
              "      <td>4.0</td>\n",
              "      <td>2</td>\n",
              "      <td>3</td>\n",
              "      <td>11</td>\n",
              "      <td>13689.06</td>\n",
              "      <td>35.0</td>\n",
              "      <td>1</td>\n",
              "      <td>2.0</td>\n",
              "      <td>4</td>\n",
              "      <td>485000.0</td>\n",
              "      <td>242500.0</td>\n",
              "    </tr>\n",
              "  </tbody>\n",
              "</table>\n",
              "</div>"
            ],
            "text/plain": [
              "                    ID      연도  ...  국내_A_여행지출_국내전체  국내_A_여행경험자1회_여행지출_국내전체\n",
              "5   11010560321_500005  2018.0  ...         57200.0                 57200.0\n",
              "6   11010560321_500010  2018.0  ...         90000.0                 90000.0\n",
              "9   11010560321_500029  2018.0  ...         68500.0                 68500.0\n",
              "10  11010600061_900004  2018.0  ...        100000.0                100000.0\n",
              "11  11010600061_900010  2018.0  ...        485000.0                242500.0\n",
              "\n",
              "[5 rows x 20 columns]"
            ]
          },
          "metadata": {
            "tags": []
          },
          "execution_count": 2
        }
      ]
    },
    {
      "cell_type": "code",
      "metadata": {
        "colab": {
          "base_uri": "https://localhost:8080/"
        },
        "id": "FYU_DK0hvLXJ",
        "outputId": "e1f3ce84-da69-4fb8-d395-24f07c979ef6"
      },
      "source": [
        "travel.info()"
      ],
      "execution_count": 5,
      "outputs": [
        {
          "output_type": "stream",
          "text": [
            "<class 'pandas.core.frame.DataFrame'>\n",
            "Int64Index: 41623 entries, 5 to 48267\n",
            "Data columns (total 21 columns):\n",
            " #   Column                  Non-Null Count  Dtype  \n",
            "---  ------                  --------------  -----  \n",
            " 0   ID                      41623 non-null  object \n",
            " 1   연도                      41623 non-null  object \n",
            " 2   월                       41623 non-null  object \n",
            " 3   국내관광여부                  41623 non-null  int64  \n",
            " 4   국내출장여부                  41623 non-null  int64  \n",
            " 5   귀성친지방문여부                41623 non-null  int64  \n",
            " 6   주요교통수단                  34614 non-null  float64\n",
            " 7   전반적만족도                  34614 non-null  float64\n",
            " 8   재방문의도                   34614 non-null  float64\n",
            " 9   타인추천의도                  34614 non-null  float64\n",
            " 10  성별                      41623 non-null  int64  \n",
            " 11  연령대                     41623 non-null  int64  \n",
            " 12  거주지                     41623 non-null  int64  \n",
            " 13  가중치                     41623 non-null  float64\n",
            " 14  국내_여행방문지_국내전체1          41623 non-null  float64\n",
            " 15  국내_월별여행경험_국내전체          41623 non-null  int64  \n",
            " 16  국내_A_여행횟수_국내전체          41623 non-null  float64\n",
            " 17  국내_A_여행일수_국내전체          41623 non-null  int64  \n",
            " 18  국내_A_여행지출_국내전체          41623 non-null  float64\n",
            " 19  국내_A_여행경험자1회_여행지출_국내전체  41623 non-null  float64\n",
            " 20  날짜                      41623 non-null  int64  \n",
            "dtypes: float64(9), int64(9), object(3)\n",
            "memory usage: 7.0+ MB\n"
          ],
          "name": "stdout"
        }
      ]
    },
    {
      "cell_type": "code",
      "metadata": {
        "colab": {
          "base_uri": "https://localhost:8080/",
          "height": 561
        },
        "id": "oI0pCxJUt5V7",
        "outputId": "ad3cd336-aa9c-49e9-a969-da59d4b8f963"
      },
      "source": [
        "# 연도, 월 합쳐서 날짜 컬럼 생성 \n",
        "\n",
        "travel[['연도','월']] = travel[['연도','월']].astype(int) \n",
        "travel[['연도','월']] = travel[['연도','월']].astype(str) \n",
        "travel['월'] = travel['월'].str.zfill(2)\n",
        "travel['날짜'] = travel[['연도','월']].apply(''.join, axis=1)\n",
        "travel[['날짜']] = travel[['날짜']].astype(int)\n",
        "travel.head()"
      ],
      "execution_count": 4,
      "outputs": [
        {
          "output_type": "stream",
          "text": [
            "/usr/local/lib/python3.7/dist-packages/pandas/core/frame.py:3069: SettingWithCopyWarning: \n",
            "A value is trying to be set on a copy of a slice from a DataFrame.\n",
            "Try using .loc[row_indexer,col_indexer] = value instead\n",
            "\n",
            "See the caveats in the documentation: https://pandas.pydata.org/pandas-docs/stable/user_guide/indexing.html#returning-a-view-versus-a-copy\n",
            "  self[k1] = value[k2]\n",
            "/usr/local/lib/python3.7/dist-packages/ipykernel_launcher.py:5: SettingWithCopyWarning: \n",
            "A value is trying to be set on a copy of a slice from a DataFrame.\n",
            "Try using .loc[row_indexer,col_indexer] = value instead\n",
            "\n",
            "See the caveats in the documentation: https://pandas.pydata.org/pandas-docs/stable/user_guide/indexing.html#returning-a-view-versus-a-copy\n",
            "  \"\"\"\n",
            "/usr/local/lib/python3.7/dist-packages/ipykernel_launcher.py:6: SettingWithCopyWarning: \n",
            "A value is trying to be set on a copy of a slice from a DataFrame.\n",
            "Try using .loc[row_indexer,col_indexer] = value instead\n",
            "\n",
            "See the caveats in the documentation: https://pandas.pydata.org/pandas-docs/stable/user_guide/indexing.html#returning-a-view-versus-a-copy\n",
            "  \n"
          ],
          "name": "stderr"
        },
        {
          "output_type": "execute_result",
          "data": {
            "text/html": [
              "<div>\n",
              "<style scoped>\n",
              "    .dataframe tbody tr th:only-of-type {\n",
              "        vertical-align: middle;\n",
              "    }\n",
              "\n",
              "    .dataframe tbody tr th {\n",
              "        vertical-align: top;\n",
              "    }\n",
              "\n",
              "    .dataframe thead th {\n",
              "        text-align: right;\n",
              "    }\n",
              "</style>\n",
              "<table border=\"1\" class=\"dataframe\">\n",
              "  <thead>\n",
              "    <tr style=\"text-align: right;\">\n",
              "      <th></th>\n",
              "      <th>ID</th>\n",
              "      <th>연도</th>\n",
              "      <th>월</th>\n",
              "      <th>국내관광여부</th>\n",
              "      <th>국내출장여부</th>\n",
              "      <th>귀성친지방문여부</th>\n",
              "      <th>주요교통수단</th>\n",
              "      <th>전반적만족도</th>\n",
              "      <th>재방문의도</th>\n",
              "      <th>타인추천의도</th>\n",
              "      <th>성별</th>\n",
              "      <th>연령대</th>\n",
              "      <th>거주지</th>\n",
              "      <th>가중치</th>\n",
              "      <th>국내_여행방문지_국내전체1</th>\n",
              "      <th>국내_월별여행경험_국내전체</th>\n",
              "      <th>국내_A_여행횟수_국내전체</th>\n",
              "      <th>국내_A_여행일수_국내전체</th>\n",
              "      <th>국내_A_여행지출_국내전체</th>\n",
              "      <th>국내_A_여행경험자1회_여행지출_국내전체</th>\n",
              "      <th>날짜</th>\n",
              "    </tr>\n",
              "  </thead>\n",
              "  <tbody>\n",
              "    <tr>\n",
              "      <th>5</th>\n",
              "      <td>11010560321_500005</td>\n",
              "      <td>2018</td>\n",
              "      <td>05</td>\n",
              "      <td>1</td>\n",
              "      <td>2</td>\n",
              "      <td>2</td>\n",
              "      <td>7.0</td>\n",
              "      <td>4.0</td>\n",
              "      <td>4.0</td>\n",
              "      <td>3.0</td>\n",
              "      <td>2</td>\n",
              "      <td>5</td>\n",
              "      <td>11</td>\n",
              "      <td>24978.80</td>\n",
              "      <td>34.0</td>\n",
              "      <td>1</td>\n",
              "      <td>1.0</td>\n",
              "      <td>1</td>\n",
              "      <td>57200.0</td>\n",
              "      <td>57200.0</td>\n",
              "      <td>201805</td>\n",
              "    </tr>\n",
              "    <tr>\n",
              "      <th>6</th>\n",
              "      <td>11010560321_500010</td>\n",
              "      <td>2018</td>\n",
              "      <td>05</td>\n",
              "      <td>1</td>\n",
              "      <td>2</td>\n",
              "      <td>2</td>\n",
              "      <td>1.0</td>\n",
              "      <td>4.0</td>\n",
              "      <td>4.0</td>\n",
              "      <td>4.0</td>\n",
              "      <td>1</td>\n",
              "      <td>7</td>\n",
              "      <td>11</td>\n",
              "      <td>40998.79</td>\n",
              "      <td>31.0</td>\n",
              "      <td>1</td>\n",
              "      <td>1.0</td>\n",
              "      <td>1</td>\n",
              "      <td>90000.0</td>\n",
              "      <td>90000.0</td>\n",
              "      <td>201805</td>\n",
              "    </tr>\n",
              "    <tr>\n",
              "      <th>9</th>\n",
              "      <td>11010560321_500029</td>\n",
              "      <td>2018</td>\n",
              "      <td>05</td>\n",
              "      <td>1</td>\n",
              "      <td>2</td>\n",
              "      <td>2</td>\n",
              "      <td>1.0</td>\n",
              "      <td>4.0</td>\n",
              "      <td>4.0</td>\n",
              "      <td>3.0</td>\n",
              "      <td>2</td>\n",
              "      <td>6</td>\n",
              "      <td>11</td>\n",
              "      <td>35549.36</td>\n",
              "      <td>35.0</td>\n",
              "      <td>1</td>\n",
              "      <td>1.0</td>\n",
              "      <td>3</td>\n",
              "      <td>68500.0</td>\n",
              "      <td>68500.0</td>\n",
              "      <td>201805</td>\n",
              "    </tr>\n",
              "    <tr>\n",
              "      <th>10</th>\n",
              "      <td>11010600061_900004</td>\n",
              "      <td>2018</td>\n",
              "      <td>09</td>\n",
              "      <td>1</td>\n",
              "      <td>2</td>\n",
              "      <td>2</td>\n",
              "      <td>1.0</td>\n",
              "      <td>4.0</td>\n",
              "      <td>4.0</td>\n",
              "      <td>4.0</td>\n",
              "      <td>2</td>\n",
              "      <td>6</td>\n",
              "      <td>11</td>\n",
              "      <td>41515.66</td>\n",
              "      <td>36.0</td>\n",
              "      <td>1</td>\n",
              "      <td>1.0</td>\n",
              "      <td>2</td>\n",
              "      <td>100000.0</td>\n",
              "      <td>100000.0</td>\n",
              "      <td>201809</td>\n",
              "    </tr>\n",
              "    <tr>\n",
              "      <th>11</th>\n",
              "      <td>11010600061_900010</td>\n",
              "      <td>2018</td>\n",
              "      <td>09</td>\n",
              "      <td>1</td>\n",
              "      <td>2</td>\n",
              "      <td>1</td>\n",
              "      <td>1.0</td>\n",
              "      <td>4.0</td>\n",
              "      <td>4.0</td>\n",
              "      <td>4.0</td>\n",
              "      <td>2</td>\n",
              "      <td>3</td>\n",
              "      <td>11</td>\n",
              "      <td>13689.06</td>\n",
              "      <td>35.0</td>\n",
              "      <td>1</td>\n",
              "      <td>2.0</td>\n",
              "      <td>4</td>\n",
              "      <td>485000.0</td>\n",
              "      <td>242500.0</td>\n",
              "      <td>201809</td>\n",
              "    </tr>\n",
              "  </tbody>\n",
              "</table>\n",
              "</div>"
            ],
            "text/plain": [
              "                    ID    연도  ... 국내_A_여행경험자1회_여행지출_국내전체      날짜\n",
              "5   11010560321_500005  2018  ...                57200.0  201805\n",
              "6   11010560321_500010  2018  ...                90000.0  201805\n",
              "9   11010560321_500029  2018  ...                68500.0  201805\n",
              "10  11010600061_900004  2018  ...               100000.0  201809\n",
              "11  11010600061_900010  2018  ...               242500.0  201809\n",
              "\n",
              "[5 rows x 21 columns]"
            ]
          },
          "metadata": {
            "tags": []
          },
          "execution_count": 4
        }
      ]
    },
    {
      "cell_type": "code",
      "metadata": {
        "id": "5qOYTGFQtd5E",
        "colab": {
          "base_uri": "https://localhost:8080/"
        },
        "outputId": "f5466b3f-fc0f-4179-8fae-28b4c07b9fa7"
      },
      "source": [
        "# 결측치 및 타입 확인 \n",
        "\n",
        "travel.info()"
      ],
      "execution_count": 3,
      "outputs": [
        {
          "output_type": "stream",
          "text": [
            "<class 'pandas.core.frame.DataFrame'>\n",
            "Int64Index: 41623 entries, 5 to 48267\n",
            "Data columns (total 20 columns):\n",
            " #   Column                  Non-Null Count  Dtype  \n",
            "---  ------                  --------------  -----  \n",
            " 0   ID                      41623 non-null  object \n",
            " 1   연도                      41623 non-null  float64\n",
            " 2   월                       41623 non-null  float64\n",
            " 3   국내관광여부                  41623 non-null  int64  \n",
            " 4   국내출장여부                  41623 non-null  int64  \n",
            " 5   귀성친지방문여부                41623 non-null  int64  \n",
            " 6   주요교통수단                  34614 non-null  float64\n",
            " 7   전반적만족도                  34614 non-null  float64\n",
            " 8   재방문의도                   34614 non-null  float64\n",
            " 9   타인추천의도                  34614 non-null  float64\n",
            " 10  성별                      41623 non-null  int64  \n",
            " 11  연령대                     41623 non-null  int64  \n",
            " 12  거주지                     41623 non-null  int64  \n",
            " 13  가중치                     41623 non-null  float64\n",
            " 14  국내_여행방문지_국내전체1          41623 non-null  float64\n",
            " 15  국내_월별여행경험_국내전체          41623 non-null  int64  \n",
            " 16  국내_A_여행횟수_국내전체          41623 non-null  float64\n",
            " 17  국내_A_여행일수_국내전체          41623 non-null  int64  \n",
            " 18  국내_A_여행지출_국내전체          41623 non-null  float64\n",
            " 19  국내_A_여행경험자1회_여행지출_국내전체  41623 non-null  float64\n",
            "dtypes: float64(11), int64(8), object(1)\n",
            "memory usage: 6.7+ MB\n"
          ],
          "name": "stdout"
        }
      ]
    },
    {
      "cell_type": "code",
      "metadata": {
        "id": "HYq7SUmazmAb",
        "colab": {
          "base_uri": "https://localhost:8080/"
        },
        "outputId": "a687b3b9-d280-4d0a-d4ff-b607a6b1db06"
      },
      "source": [
        "# 최근 데이터로 test셋 지정하기 위해 날짜 비율 확인 \n",
        "travel['날짜'].value_counts()"
      ],
      "execution_count": 11,
      "outputs": [
        {
          "output_type": "execute_result",
          "data": {
            "text/plain": [
              "201909    2476\n",
              "201902    2474\n",
              "201912    2378\n",
              "201908    2354\n",
              "201910    2325\n",
              "201904    2299\n",
              "201911    2261\n",
              "201905    2255\n",
              "201907    2233\n",
              "201901    2108\n",
              "201903    2087\n",
              "201906    2063\n",
              "201809    1312\n",
              "201805    1233\n",
              "201802    1227\n",
              "201812    1199\n",
              "201808    1195\n",
              "201804    1181\n",
              "201806    1174\n",
              "201803    1174\n",
              "201810    1173\n",
              "201807    1149\n",
              "201801    1131\n",
              "201811    1122\n",
              "202001      40\n",
              "Name: 날짜, dtype: int64"
            ]
          },
          "metadata": {
            "tags": []
          },
          "execution_count": 11
        }
      ]
    },
    {
      "cell_type": "code",
      "metadata": {
        "colab": {
          "base_uri": "https://localhost:8080/"
        },
        "id": "eX4nMnQ00Y07",
        "outputId": "c6467608-d0dc-405e-80d6-05791e4a9a44"
      },
      "source": [
        "# 데이터셋 나누기 . test셋은 2019년도 하반기 8,9,10,11,12, 2020년1월 데이터로 구성 \n",
        "\n",
        "test = travel[(travel['날짜'] >= 201908) | (travel['날짜'] == 202001)]\n",
        "test.shape"
      ],
      "execution_count": 12,
      "outputs": [
        {
          "output_type": "execute_result",
          "data": {
            "text/plain": [
              "(11834, 21)"
            ]
          },
          "metadata": {
            "tags": []
          },
          "execution_count": 12
        }
      ]
    },
    {
      "cell_type": "code",
      "metadata": {
        "colab": {
          "base_uri": "https://localhost:8080/"
        },
        "id": "frqKFhDBwU7h",
        "outputId": "42503506-721c-4c23-cd7c-10d96bdf41bc"
      },
      "source": [
        "# test를 제외한 데이터 \n",
        "travel18_1907 = travel[(travel['날짜'] >= 201801) & (travel['날짜'] < 201908)]\n",
        "travel18_1907.shape"
      ],
      "execution_count": 13,
      "outputs": [
        {
          "output_type": "execute_result",
          "data": {
            "text/plain": [
              "(29789, 21)"
            ]
          },
          "metadata": {
            "tags": []
          },
          "execution_count": 13
        }
      ]
    },
    {
      "cell_type": "code",
      "metadata": {
        "colab": {
          "base_uri": "https://localhost:8080/"
        },
        "id": "l1liLsIkh6ec",
        "outputId": "c62fe2c5-9523-4d94-c64a-aa452b0324a6"
      },
      "source": [
        " # 검증 데이터 20% 추출 \n",
        "\n",
        "from sklearn.model_selection import train_test_split\n",
        "\n",
        "train, val = train_test_split(travel18_1907, train_size=0.7, random_state=123)\n",
        "\n",
        "train.shape , val.shape"
      ],
      "execution_count": 14,
      "outputs": [
        {
          "output_type": "execute_result",
          "data": {
            "text/plain": [
              "((20852, 21), (8937, 21))"
            ]
          },
          "metadata": {
            "tags": []
          },
          "execution_count": 14
        }
      ]
    },
    {
      "cell_type": "code",
      "metadata": {
        "colab": {
          "base_uri": "https://localhost:8080/"
        },
        "id": "4bXlmU44ITqs",
        "outputId": "9e46ac71-d200-435c-8bbf-0648f5a3ba11"
      },
      "source": [
        "train.info()"
      ],
      "execution_count": 15,
      "outputs": [
        {
          "output_type": "stream",
          "text": [
            "<class 'pandas.core.frame.DataFrame'>\n",
            "Int64Index: 20852 entries, 25839 to 18240\n",
            "Data columns (total 21 columns):\n",
            " #   Column                  Non-Null Count  Dtype  \n",
            "---  ------                  --------------  -----  \n",
            " 0   ID                      20852 non-null  object \n",
            " 1   연도                      20852 non-null  object \n",
            " 2   월                       20852 non-null  object \n",
            " 3   국내관광여부                  20852 non-null  int64  \n",
            " 4   국내출장여부                  20852 non-null  int64  \n",
            " 5   귀성친지방문여부                20852 non-null  int64  \n",
            " 6   주요교통수단                  17222 non-null  float64\n",
            " 7   전반적만족도                  17222 non-null  float64\n",
            " 8   재방문의도                   17222 non-null  float64\n",
            " 9   타인추천의도                  17222 non-null  float64\n",
            " 10  성별                      20852 non-null  int64  \n",
            " 11  연령대                     20852 non-null  int64  \n",
            " 12  거주지                     20852 non-null  int64  \n",
            " 13  가중치                     20852 non-null  float64\n",
            " 14  국내_여행방문지_국내전체1          20852 non-null  float64\n",
            " 15  국내_월별여행경험_국내전체          20852 non-null  int64  \n",
            " 16  국내_A_여행횟수_국내전체          20852 non-null  float64\n",
            " 17  국내_A_여행일수_국내전체          20852 non-null  int64  \n",
            " 18  국내_A_여행지출_국내전체          20852 non-null  float64\n",
            " 19  국내_A_여행경험자1회_여행지출_국내전체  20852 non-null  float64\n",
            " 20  날짜                      20852 non-null  int64  \n",
            "dtypes: float64(9), int64(9), object(3)\n",
            "memory usage: 3.5+ MB\n"
          ],
          "name": "stdout"
        }
      ]
    },
    {
      "cell_type": "code",
      "metadata": {
        "id": "om6io5EwHqOj"
      },
      "source": [
        "#float 타입 -> intfh 변경\n",
        "#모델링에 필요없는 컬럼 제거 \n",
        "\n",
        "def eng(df) : \n",
        "     df_nan = df.fillna(0)\n",
        "     df_int = df_nan.astype({'주요교통수단': int, \n",
        "                  '전반적만족도': int,\n",
        "                  '재방문의도': int,\n",
        "                  '타인추천의도': int,\n",
        "                  '국내_여행방문지_국내전체1': int,\n",
        "                  '국내_A_여행횟수_국내전체': int,\n",
        "                  '국내_A_여행지출_국내전체': int,\n",
        "                  })\n",
        "     \n",
        "     df_end = df_int.drop(['연도','월','날짜','가중치'],axis=1)\n",
        "\n",
        "     return df_end"
      ],
      "execution_count": 16,
      "outputs": []
    },
    {
      "cell_type": "code",
      "metadata": {
        "id": "STeT8uoMTR1J"
      },
      "source": [
        "train = eng(train)\n",
        "val = eng(val)\n",
        "test = eng(test)\n"
      ],
      "execution_count": 17,
      "outputs": []
    },
    {
      "cell_type": "code",
      "metadata": {
        "colab": {
          "base_uri": "https://localhost:8080/"
        },
        "id": "62qnqIiPko2h",
        "outputId": "2f79ec95-701f-4aa8-b501-6e4f7a32a423"
      },
      "source": [
        "train.info()"
      ],
      "execution_count": 18,
      "outputs": [
        {
          "output_type": "stream",
          "text": [
            "<class 'pandas.core.frame.DataFrame'>\n",
            "Int64Index: 20852 entries, 25839 to 18240\n",
            "Data columns (total 17 columns):\n",
            " #   Column                  Non-Null Count  Dtype  \n",
            "---  ------                  --------------  -----  \n",
            " 0   ID                      20852 non-null  object \n",
            " 1   국내관광여부                  20852 non-null  int64  \n",
            " 2   국내출장여부                  20852 non-null  int64  \n",
            " 3   귀성친지방문여부                20852 non-null  int64  \n",
            " 4   주요교통수단                  20852 non-null  int64  \n",
            " 5   전반적만족도                  20852 non-null  int64  \n",
            " 6   재방문의도                   20852 non-null  int64  \n",
            " 7   타인추천의도                  20852 non-null  int64  \n",
            " 8   성별                      20852 non-null  int64  \n",
            " 9   연령대                     20852 non-null  int64  \n",
            " 10  거주지                     20852 non-null  int64  \n",
            " 11  국내_여행방문지_국내전체1          20852 non-null  int64  \n",
            " 12  국내_월별여행경험_국내전체          20852 non-null  int64  \n",
            " 13  국내_A_여행횟수_국내전체          20852 non-null  int64  \n",
            " 14  국내_A_여행일수_국내전체          20852 non-null  int64  \n",
            " 15  국내_A_여행지출_국내전체          20852 non-null  int64  \n",
            " 16  국내_A_여행경험자1회_여행지출_국내전체  20852 non-null  float64\n",
            "dtypes: float64(1), int64(15), object(1)\n",
            "memory usage: 2.9+ MB\n"
          ],
          "name": "stdout"
        }
      ]
    },
    {
      "cell_type": "code",
      "metadata": {
        "id": "CTNZ2EJZeRWZ"
      },
      "source": [
        "# 타겟 지정 \n",
        "target = '국내_A_여행경험자1회_여행지출_국내전체'"
      ],
      "execution_count": 19,
      "outputs": []
    },
    {
      "cell_type": "code",
      "metadata": {
        "id": "BkVMdjGWgk0S"
      },
      "source": [
        "# X,y 지정 \n",
        "X_train = train.drop(columns=target)\n",
        "y_train = train[target]\n",
        "X_val = val.drop(columns=target)\n",
        "y_val = val[target]"
      ],
      "execution_count": null,
      "outputs": []
    },
    {
      "cell_type": "code",
      "metadata": {
        "colab": {
          "base_uri": "https://localhost:8080/"
        },
        "id": "1daq326fkQhB",
        "outputId": "6e3ada94-d576-48c7-80de-a083c9d24151"
      },
      "source": [
        "# 타겟정보 확인 \n",
        "travel['국내_A_여행경험자1회_여행지출_국내전체'].describe()"
      ],
      "execution_count": null,
      "outputs": [
        {
          "output_type": "execute_result",
          "data": {
            "text/plain": [
              "count    4.162300e+04\n",
              "mean     1.321379e+05\n",
              "std      1.280681e+05\n",
              "min      3.000000e+03\n",
              "25%      6.000000e+04\n",
              "50%      1.000000e+05\n",
              "75%      1.500000e+05\n",
              "max      3.536000e+06\n",
              "Name: 국내_A_여행경험자1회_여행지출_국내전체, dtype: float64"
            ]
          },
          "metadata": {
            "tags": []
          },
          "execution_count": 18
        }
      ]
    },
    {
      "cell_type": "code",
      "metadata": {
        "colab": {
          "base_uri": "https://localhost:8080/",
          "height": 1000
        },
        "id": "HcqMNcEHjYjb",
        "outputId": "89c4e0cc-ca0b-4829-d311-e3a29d701c49"
      },
      "source": [
        "# 기준모델 분포확인 \n",
        "import matplotlib.pyplot as plt\n",
        "import seaborn as sns\n",
        "\n",
        "# 기준모델 확률밀도함수 그리기\n",
        "sns.displot(travel['국내_A_여행경험자1회_여행지출_국내전체'], kde=True)\n",
        "\n",
        "## 평균과, 중간값으로 수직선 그려보기 \n",
        "plt.axvline(travel['국내_A_여행경험자1회_여행지출_국내전체'].mean(), color='blue')\n",
        "plt.axvline(travel['국내_A_여행경험자1회_여행지출_국내전체'].median(), color='red');\n",
        "\n",
        "plt.gcf().set_size_inches(15, 8);\n",
        "\n",
        "plt.show();"
      ],
      "execution_count": 21,
      "outputs": [
        {
          "output_type": "stream",
          "text": [
            "/usr/local/lib/python3.7/dist-packages/matplotlib/backends/backend_agg.py:214: RuntimeWarning: Glyph 44397 missing from current font.\n",
            "  font.set_text(s, 0.0, flags=flags)\n",
            "/usr/local/lib/python3.7/dist-packages/matplotlib/backends/backend_agg.py:214: RuntimeWarning: Glyph 45236 missing from current font.\n",
            "  font.set_text(s, 0.0, flags=flags)\n",
            "/usr/local/lib/python3.7/dist-packages/matplotlib/backends/backend_agg.py:214: RuntimeWarning: Glyph 50668 missing from current font.\n",
            "  font.set_text(s, 0.0, flags=flags)\n",
            "/usr/local/lib/python3.7/dist-packages/matplotlib/backends/backend_agg.py:214: RuntimeWarning: Glyph 54665 missing from current font.\n",
            "  font.set_text(s, 0.0, flags=flags)\n",
            "/usr/local/lib/python3.7/dist-packages/matplotlib/backends/backend_agg.py:214: RuntimeWarning: Glyph 44221 missing from current font.\n",
            "  font.set_text(s, 0.0, flags=flags)\n",
            "/usr/local/lib/python3.7/dist-packages/matplotlib/backends/backend_agg.py:214: RuntimeWarning: Glyph 54744 missing from current font.\n",
            "  font.set_text(s, 0.0, flags=flags)\n",
            "/usr/local/lib/python3.7/dist-packages/matplotlib/backends/backend_agg.py:214: RuntimeWarning: Glyph 51088 missing from current font.\n",
            "  font.set_text(s, 0.0, flags=flags)\n",
            "/usr/local/lib/python3.7/dist-packages/matplotlib/backends/backend_agg.py:214: RuntimeWarning: Glyph 54924 missing from current font.\n",
            "  font.set_text(s, 0.0, flags=flags)\n",
            "/usr/local/lib/python3.7/dist-packages/matplotlib/backends/backend_agg.py:214: RuntimeWarning: Glyph 51648 missing from current font.\n",
            "  font.set_text(s, 0.0, flags=flags)\n",
            "/usr/local/lib/python3.7/dist-packages/matplotlib/backends/backend_agg.py:214: RuntimeWarning: Glyph 52636 missing from current font.\n",
            "  font.set_text(s, 0.0, flags=flags)\n",
            "/usr/local/lib/python3.7/dist-packages/matplotlib/backends/backend_agg.py:214: RuntimeWarning: Glyph 51204 missing from current font.\n",
            "  font.set_text(s, 0.0, flags=flags)\n",
            "/usr/local/lib/python3.7/dist-packages/matplotlib/backends/backend_agg.py:214: RuntimeWarning: Glyph 52404 missing from current font.\n",
            "  font.set_text(s, 0.0, flags=flags)\n",
            "/usr/local/lib/python3.7/dist-packages/matplotlib/backends/backend_agg.py:183: RuntimeWarning: Glyph 44397 missing from current font.\n",
            "  font.set_text(s, 0, flags=flags)\n",
            "/usr/local/lib/python3.7/dist-packages/matplotlib/backends/backend_agg.py:183: RuntimeWarning: Glyph 45236 missing from current font.\n",
            "  font.set_text(s, 0, flags=flags)\n",
            "/usr/local/lib/python3.7/dist-packages/matplotlib/backends/backend_agg.py:183: RuntimeWarning: Glyph 50668 missing from current font.\n",
            "  font.set_text(s, 0, flags=flags)\n",
            "/usr/local/lib/python3.7/dist-packages/matplotlib/backends/backend_agg.py:183: RuntimeWarning: Glyph 54665 missing from current font.\n",
            "  font.set_text(s, 0, flags=flags)\n",
            "/usr/local/lib/python3.7/dist-packages/matplotlib/backends/backend_agg.py:183: RuntimeWarning: Glyph 44221 missing from current font.\n",
            "  font.set_text(s, 0, flags=flags)\n",
            "/usr/local/lib/python3.7/dist-packages/matplotlib/backends/backend_agg.py:183: RuntimeWarning: Glyph 54744 missing from current font.\n",
            "  font.set_text(s, 0, flags=flags)\n",
            "/usr/local/lib/python3.7/dist-packages/matplotlib/backends/backend_agg.py:183: RuntimeWarning: Glyph 51088 missing from current font.\n",
            "  font.set_text(s, 0, flags=flags)\n",
            "/usr/local/lib/python3.7/dist-packages/matplotlib/backends/backend_agg.py:183: RuntimeWarning: Glyph 54924 missing from current font.\n",
            "  font.set_text(s, 0, flags=flags)\n",
            "/usr/local/lib/python3.7/dist-packages/matplotlib/backends/backend_agg.py:183: RuntimeWarning: Glyph 51648 missing from current font.\n",
            "  font.set_text(s, 0, flags=flags)\n",
            "/usr/local/lib/python3.7/dist-packages/matplotlib/backends/backend_agg.py:183: RuntimeWarning: Glyph 52636 missing from current font.\n",
            "  font.set_text(s, 0, flags=flags)\n",
            "/usr/local/lib/python3.7/dist-packages/matplotlib/backends/backend_agg.py:183: RuntimeWarning: Glyph 51204 missing from current font.\n",
            "  font.set_text(s, 0, flags=flags)\n",
            "/usr/local/lib/python3.7/dist-packages/matplotlib/backends/backend_agg.py:183: RuntimeWarning: Glyph 52404 missing from current font.\n",
            "  font.set_text(s, 0, flags=flags)\n"
          ],
          "name": "stderr"
        },
        {
          "output_type": "display_data",
          "data": {
            "image/png": "[encoded data removed]",
            "text/plain": [
              "<Figure size 1080x576 with 1 Axes>"
            ]
          },
          "metadata": {
            "tags": [],
            "needs_background": "light"
          }
        }
      ]
    }
  ]
}
